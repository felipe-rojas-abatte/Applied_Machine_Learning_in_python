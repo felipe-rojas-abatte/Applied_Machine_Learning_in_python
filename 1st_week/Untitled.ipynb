{
 "cells": [
  {
   "cell_type": "markdown",
   "metadata": {},
   "source": [
    "Que es Machine Learning (ML)?\n",
    "\n",
    "Es el estudio de programas de coputacion (algritmos) que tengan la capacidad de aprender mediante la repetición.\n",
    "\n",
    "Para resolver un problema dado podemos implementar un codigo en algun lenguaje de programación que sea capaz de, con algunos inputs que le demos, entregarnos una respuesta. Esto se ha usado desde hace mucho tiempo en diferentes disciplinas como ciencias, economía, etc. \n",
    "Ahora, ¿que ocurre cuando la complejidad del problema hace que sea dificil crear un algoritmo capaz de resolverlo? \n",
    "Por ejempo: crear un programa que sea capaz de reconocer la voz y digitalizar lo dicho en un texto. Este problema es bastante complejo dada la cantidad de diferentes idiomas y las diferentes formas que tiene la gente de hablar. Un código basado en algun algoritmo \"clasico\" sería muy complejo de escribir, con reglas muy específicas para cada tipo de persona y cada tipo de voz, lo cual haría al final del dís que no sería tan robusto. "
   ]
  }
 ],
 "metadata": {
  "kernelspec": {
   "display_name": "Python 3",
   "language": "python",
   "name": "python3"
  },
  "language_info": {
   "codemirror_mode": {
    "name": "ipython",
    "version": 3
   },
   "file_extension": ".py",
   "mimetype": "text/x-python",
   "name": "python",
   "nbconvert_exporter": "python",
   "pygments_lexer": "ipython3",
   "version": "3.5.2"
  }
 },
 "nbformat": 4,
 "nbformat_minor": 4
}
