{
 "cells": [
  {
   "cell_type": "markdown",
   "metadata": {},
   "source": [
    "# Modelos Lineales\n",
    "Un modelo lineal es una suma de variables pesadas que predice el valor de salida dado un valor de entrada.\n",
    "\n",
    "Ej: Predecir el valor del precio de casas.\n",
    "Dadas algunas características de las casas como: impuestos por año ($X_{tax}$) y edad de la casa en años ($X_{age}$) podemos utilizar esa información para estimar el precio de cada casa. Como ejemplo podemos escribir el siguiente modelo.\n",
    "\n",
    "$Y_{price} = C_{value} + w_{tax}X_{tax} + w_{age}X_{tax}$\n",
    "\n",
    "La idea principal es que usando ML podemos ajustar los valores de los pesos $w_i$ y el valor constante para poder predecir valores de casas basados en inputs anteriores.\n",
    "\n",
    "Este es un claro ejemplo de un modelo de regresion lineal.\n",
    "\n",
    "### Estructura de un modelo de regresion lineal\n",
    "De forma general este tipo de modelos tiene como input un conjunto de cracterísticas denominadas $x_i$, $i=0,\\dots,n$. Y cada característica se le asocia un peso $w_i$, $i=0,\\dots,n$, de modo que el valor de salida sará la suma de los pesos por cada caracteristica mas un valor constante $b$:\n",
    "\n",
    "$\\hat{y} = \\sum_i \\hat{w}_ix_i + \\hat{b}$\n",
    "\n",
    "Los pesos $\\hat{w}_i$ y el intercepto $\\hat{b}$ son los parametros a estimar basados en el entrenamiendo del modelo. Una forma de encontrar estos parametros es a través del método de los mínimos cuadrados.\n",
    "Este método consiste en encontrar el valor que minimice el error medio cuadrado del modelo, es decir, el valor que minimice la suma de las diferencias al cuadrado entre el valor predicho de cada punto $\\hat{y}(x_i)$ y el valor real de cada punto $y(x)$, dividido por el número de puntos utilizados en el entrenamiento.\n",
    "\n",
    "$MSE = \\frac{1}{n}\\sum_{i=0}^n (\\hat{y}(x_i) - y(x))^2$\n",
    "\n",
    "Los modelos lineales hacen fuertes suposiciones sobre la relación de la variables de entrada y de salida. Pareciera que fueran simplistas, pero en datasets con muchas variables pueden ser muy efectivos y generalizar bien la dinámica de los datos."
   ]
  },
  {
   "cell_type": "markdown",
   "metadata": {},
   "source": [
    "### ¿Como son estimados los parámetros del modelo?\n",
    "Existen varias formas de estimar los parámetros del modelo a partir de los datos de entrenamiento. Esto va a depender de los criterios de fiteo, objetivos y formas de controlar la complejidad del modelo."
   ]
  },
  {
   "cell_type": "markdown",
   "metadata": {},
   "source": [
    "### Como implementar la Regresion Lineal\n",
    "Al igual que en los casos anteriores usamos la clase LinearRegression con los datos ya separados que usaremos para entrenar el modelo.\n",
    "Una vez entrenado, podemos acceder a los valores de $w_i$ y $b$ con el atributo coef_ y intercept_ respectivamente"
   ]
  },
  {
   "cell_type": "code",
   "execution_count": 2,
   "metadata": {},
   "outputs": [
    {
     "name": "stdout",
     "output_type": "stream",
     "text": [
      "linear model coeff (w): [45.70870465]\n",
      "linear model intercept (b): 148.446\n",
      "R-squared score (training): 0.679\n",
      "R-squared score (test): 0.492\n"
     ]
    }
   ],
   "source": [
    "import numpy as np\n",
    "import pandas as pd\n",
    "import seaborn as sn\n",
    "import matplotlib.pyplot as plt\n",
    "\n",
    "from sklearn.model_selection import train_test_split\n",
    "from sklearn.neighbors import KNeighborsClassifier\n",
    "\n",
    "from sklearn.datasets import make_regression\n",
    "from sklearn.linear_model import LinearRegression\n",
    "\n",
    "X_R1, y_R1 = make_regression(n_samples = 100, n_features=1,\n",
    "                            n_informative=1, bias = 150.0,\n",
    "                            noise = 30, random_state=0)\n",
    "X_train, X_test, y_train, y_test = train_test_split(X_R1, y_R1,\n",
    "                                                   random_state = 0)\n",
    "\n",
    "linreg = LinearRegression().fit(X_train, y_train)\n",
    "\n",
    "print('linear model coeff (w): {}'\n",
    "     .format(linreg.coef_))\n",
    "print('linear model intercept (b): {:.3f}'\n",
    "     .format(linreg.intercept_))\n",
    "print('R-squared score (training): {:.3f}'\n",
    "     .format(linreg.score(X_train, y_train)))\n",
    "print('R-squared score (test): {:.3f}'\n",
    "     .format(linreg.score(X_test, y_test)))"
   ]
  },
  {
   "cell_type": "code",
   "execution_count": 3,
   "metadata": {},
   "outputs": [
    {
     "data": {
      "image/png": "[encoded data removed]",
      "text/plain": [
       "<Figure size 360x288 with 1 Axes>"
      ]
     },
     "metadata": {
      "needs_background": "light"
     },
     "output_type": "display_data"
    }
   ],
   "source": [
    "plt.figure(figsize=(5,4))\n",
    "plt.scatter(X_R1, y_R1, marker= 'o', s=50, alpha=0.8)\n",
    "m = linreg.coef_\n",
    "b = linreg.intercept_\n",
    "y = m*X_R1 + b\n",
    "plt.plot(X_R1, y, 'r-')\n",
    "plt.title('Least-squares linear regression')\n",
    "plt.xlabel('Feature value (x)')\n",
    "plt.ylabel('Target value (y)')\n",
    "plt.show()"
   ]
  },
  {
   "cell_type": "markdown",
   "metadata": {},
   "source": [
    "### Comparación del K-NN Regression vs Least-Squares Linear Regresion"
   ]
  },
  {
   "cell_type": "markdown",
   "metadata": {},
   "source": [
    "Es interesante comparar los resultados de una regresión lineal aplicando dos modelos distintos de ML al mismo conjunto de datos:\n",
    "- k-NN Regression\n",
    "- Least-Squares Lineal Regression\n",
    "\n",
    "En primer lugar el modelo k-NN no hace muchas suposiciones sobre la estructurta de los datos, por lo que su predicción es potencialmente  precisa pero algunas veces genera predicciones inestable que son muy sensibles a pequeños cambios en los datos de entrenamiento. Esto hace que presente coeficiente de determinación mayor (para el training set) que el caso de regresión lineal.\n",
    "\n",
    "Por el contrario, modelos lineales asumen muchas suposiciones sobre la estructura de los datos, dando como resultados predicciones mas estables pero a la vez más imprecisas, mostrando un coeficiente de determinación menor (para el training set) que el caso k-NN.\n",
    "\n",
    "<img src=\"k-NN_vs_LS_linear.png\">\n",
    "\n",
    "Para este caso particular, es importante resaltar que el modelo de regresion lineal obtuvo un $R^2$ ligeramente más alto que el caso k-NN para los datos de test, debido a que existía una clara relación entre las variables haciendo que estos se ajustaran de mejor forma a la predicción. \n"
   ]
  },
  {
   "cell_type": "markdown",
   "metadata": {},
   "source": [
    "## Otras formas de estimar los parámatros del modelo lineal"
   ]
  },
  {
   "cell_type": "markdown",
   "metadata": {},
   "source": [
    "### Ridge Regression\n",
    "Usa el mismo criterio de mínimos cuadrados que el caso anterior, con una pequeña diferencia, agrega una penalización a los parametros $w_i$ que son muy grandes (a esto se le llama regularización). La reguralización es importante en ML dado que previene un sobreajuste (overfit) del modelo, reduciendo la complejidad de este.  \n",
    "\n",
    "$RSS_{RIDGE}(w,b) = \\sum_{i=1}^N (y(x_i) - (w\\cdot x_i + b))^2 + \\alpha \\sum_{j=1}^p w_j^2$\n",
    "\n",
    "La incorporación de la última parte en la ecuación mostrada hace que modelos con pesos más grandes contribuyan más en la ecuación final. De esta forma, debido a que el objetivo final es minimizar la funcion final, la regularización actua como una penalización ($L_2$) a los pesos que mas contribuyen. Así, en el caso en que tengamos 2 posibles predicciones, se preferirá un modelo donde la suma de los pesos total sea menor. Este efecto no se aprecia en casos con 1 sola característica, sino que en datasets con múltiples caracteristicas, donde la regularización puede incrementar de forma importante la eficiencia del modelo.\n",
    "\n",
    "La cantidad de regularización que aplicamos está controlada por el parámetro $\\alpha$, indicando que valores más altos de $\\alpha$ implican mayor regularización y por lo tanto menor complejidad en los modelo con pesos más cercanos a 0."
   ]
  },
  {
   "cell_type": "markdown",
   "metadata": {},
   "source": [
    "#### Implementación de modelo de Regresión Ridge\n",
    "Primero cargamos el dataframe con los datos de crimenes."
   ]
  },
  {
   "cell_type": "code",
   "execution_count": 21,
   "metadata": {},
   "outputs": [],
   "source": [
    "from adspy_shared_utilities import load_crime_dataset\n",
    "crime = pd.read_table('/home/felipe/Documents/Programas/git_repository/Applied_Machine_Learning_in_python/2nd_week/CommViolPredUnnormalizedData.txt', sep=',', na_values='?')\n",
    "# remove features with poor coverage or lower relevance, and keep ViolentCrimesPerPop target column\n",
    "columns_to_keep = [5, 6] + list(range(11,26)) + list(range(32, 103)) + [145]  \n",
    "crime = crime.ix[:,columns_to_keep].dropna()\n",
    "X_crime = crime.ix[:,range(0,88)]\n",
    "y_crime = crime['ViolentCrimesPerPop']"
   ]
  },
  {
   "cell_type": "markdown",
   "metadata": {},
   "source": [
    "Usando la clase Ridge y pasando la información del parametro $\\alpha$ podemos inmediatamente entrenar el modelo con la cunción fit."
   ]
  },
  {
   "cell_type": "code",
   "execution_count": 41,
   "metadata": {},
   "outputs": [
    {
     "name": "stdout",
     "output_type": "stream",
     "text": [
      "Crime dataset\n",
      "ridge intercept: -3352.42, linear intercept: 3861.71\n",
      "R-squared score (training): ridge: 0.671,  linear: 0.668\n",
      "R-squared score (test): ridge: 0.494,  linear: 0.520\n"
     ]
    }
   ],
   "source": [
    "from sklearn.linear_model import Ridge\n",
    "X_train, X_test, y_train, y_test = train_test_split(X_crime, y_crime,\n",
    "                                                   random_state = 0)\n",
    "\n",
    "linridge = Ridge(alpha=20.0).fit(X_train, y_train)\n",
    "linreg = LinearRegression().fit(X_train, y_train)\n",
    "\n",
    "print('Crime dataset')\n",
    "print('ridge intercept: {:.2f}, linear intercept: {:.2f}'\n",
    "     .format(linridge.intercept_,linreg.intercept_))\n",
    "print('R-squared score (training): ridge: {:.3f},  linear: {:.3f}'\n",
    "     .format(linridge.score(X_train, y_train),linreg.score(X_train, y_train)))\n",
    "print('R-squared score (test): ridge: {:.3f},  linear: {:.3f}'\n",
    "     .format(linridge.score(X_test, y_test),linreg.score(X_test, y_test)))"
   ]
  },
  {
   "cell_type": "markdown",
   "metadata": {},
   "source": [
    "Si comparamos el resultado de Ridge con el modelo de regresion lineal simple podemos ver que no hay mayor diferencia en los valores de $R^2$. Sin embargo, podemos realizar algunos cambios a modelo Ridge para mejorar los resultados. Lo que podemos hacer es normalizar las escalas de los pesos de cada característica que originalmente presentaban distintas escalas. Existen varias formas de normalizar los pesos, pero en esta oportunidad utilizaremos un tipo llamado reescalamiento MinMax, haciendo que todas las características estén evaluadas entre 0 y 1:\n",
    "- A cada caracteristica $x_i$ calcularemos el valor mínimo y máximo y transformaremos de $x_i$ a $x'_i$ de la siguiente forma:\n",
    "\n",
    "$x'_i = \\frac{x_i - x_i^{min}}{x_i^{max} - x_i^{min}}$\n",
    "\n",
    "Para esto debemos:\n",
    "- importar MinMaxScaler \n",
    "- preparar el objeto escalar para su uso usando scaler.fit(X_train)\n",
    "- aplicamos el reescalamiento con scaler.transform()\n",
    "- Podemos ser un poco mas eficientes aplicando al mismo el fit y la transformación al training set con el comando scaler.fit_transform(X_train)\n",
    "\n",
    "Algunos consejos a la hora de realizar la normalizacon:\n",
    "- fitear el scaler usando el trainig set y luego aplicar el mnismo scaler al train set.\n",
    "- No escalar el training y test set usando diferentes scalers: esto causaría un sesgo en los datos.\n",
    "- No fit el scaler con el test set."
   ]
  },
  {
   "cell_type": "code",
   "execution_count": 50,
   "metadata": {},
   "outputs": [
    {
     "name": "stdout",
     "output_type": "stream",
     "text": [
      "Crime dataset\n",
      "ridge scaled intercept: 933.39, linear intercept: 3861.71\n",
      "R-squared score (training): ridge scaled: 0.615,  linear: 0.668\n",
      "R-squared score (test): ridge scaled: 0.599,  linear: 0.520\n",
      "Improvement of 21.16% in the test set prediction\n"
     ]
    }
   ],
   "source": [
    "from sklearn.preprocessing import MinMaxScaler\n",
    "scaler = MinMaxScaler()\n",
    "scaler.fit(X_train)\n",
    "#Aplicamos el reescalamiento a X_train y X_test\n",
    "X_train_scaled = scaler.transform(X_train)\n",
    "X_test_scaled = scaler.transform(X_test)\n",
    "\n",
    "linridge_scaled = Ridge(alpha=20.0).fit(X_train_scaled, y_train)\n",
    "\n",
    "print('Crime dataset')\n",
    "print('ridge scaled intercept: {:.2f}, linear intercept: {:.2f}'\n",
    "     .format(linridge_scaled.intercept_,linreg.intercept_))\n",
    "print('R-squared score (training): ridge scaled: {:.3f},  linear: {:.3f}'\n",
    "     .format(linridge_scaled.score(X_train_scaled, y_train),linreg.score(X_train, y_train)))\n",
    "print('R-squared score (test): ridge scaled: {:.3f},  linear: {:.3f}'\n",
    "     .format(linridge_scaled.score(X_test_scaled, y_test),linreg.score(X_test, y_test)))\n",
    "eff = 100*(linridge_scaled.score(X_test_scaled, y_test)- linridge.score(X_test, y_test))/linridge.score(X_test, y_test)\n",
    "print('Improvement of {:.2f}% in the test set prediction'.format(eff))\n"
   ]
  },
  {
   "cell_type": "markdown",
   "metadata": {},
   "source": [
    "#### ¿Que ocurre si variamos $\\alpha$ en el modelo Ridge?\n",
    "El mejor $R^2$ en el test set resulta ser cuando usamos $\\alpha=20$"
   ]
  },
  {
   "cell_type": "code",
   "execution_count": 51,
   "metadata": {},
   "outputs": [
    {
     "name": "stdout",
     "output_type": "stream",
     "text": [
      "Ridge regression: effect of alpha regularization parameter\n",
      "\n",
      "Alpha = 0.00\n",
      "num abs(coeff) > 1.0: 87, r-squared training: 0.67, r-squared test: 0.50\n",
      "\n",
      "Alpha = 1.00\n",
      "num abs(coeff) > 1.0: 87, r-squared training: 0.66, r-squared test: 0.56\n",
      "\n",
      "Alpha = 10.00\n",
      "num abs(coeff) > 1.0: 87, r-squared training: 0.63, r-squared test: 0.59\n",
      "\n",
      "Alpha = 20.00\n",
      "num abs(coeff) > 1.0: 88, r-squared training: 0.61, r-squared test: 0.60\n",
      "\n",
      "Alpha = 50.00\n",
      "num abs(coeff) > 1.0: 86, r-squared training: 0.58, r-squared test: 0.58\n",
      "\n",
      "Alpha = 100.00\n",
      "num abs(coeff) > 1.0: 87, r-squared training: 0.55, r-squared test: 0.55\n",
      "\n",
      "Alpha = 1000.00\n",
      "num abs(coeff) > 1.0: 84, r-squared training: 0.31, r-squared test: 0.30\n",
      "\n"
     ]
    }
   ],
   "source": [
    "print('Ridge regression: effect of alpha regularization parameter\\n')\n",
    "for this_alpha in [0, 1, 10, 20, 50, 100, 1000]:\n",
    "    linridge = Ridge(alpha = this_alpha).fit(X_train_scaled, y_train)\n",
    "    r2_train = linridge.score(X_train_scaled, y_train)\n",
    "    r2_test = linridge.score(X_test_scaled, y_test)\n",
    "    num_coeff_bigger = np.sum(abs(linridge.coef_) > 1.0)\n",
    "    print('Alpha = {:.2f}\\nnum abs(coeff) > 1.0: {}, \\\n",
    "r-squared training: {:.2f}, r-squared test: {:.2f}\\n'\n",
    "         .format(this_alpha, num_coeff_bigger, r2_train, r2_test))"
   ]
  },
  {
   "cell_type": "markdown",
   "metadata": {},
   "source": [
    "### Lasso Regression\n",
    "Al igual que el metodo de Ridge, Lasso también agrega un factor de penalización ($L_1$) a los pesos, pero esta vez usa el valor absoluto del peso en vez del peso al cuadrado\n",
    "\n",
    "$RSS_{LASSO}(w,b) = \\sum_{i=1}^N (y(x_i) - (w\\cdot x_i + b))^2 + \\alpha \\sum_{j=1}^p |w_j|$\n",
    "\n",
    "El efecto de esta forma de regularización es hacer que los pesos de los parametros que menos contribuyen sean 0, dejando con un valor distinto de 0 a los pesos más influyentes. Esta forma de regularización también esta controlada por el parámetro $\\alpha$.\n",
    "\n",
    "Basados en la forma en como se regularizan las regresiones lineales, ya sea usando Ridge ($L_2$) o Lasso ($L_1$), podemos distinguir en que casos usar una o la otra forma:\n",
    "- Cuando tenemos muchas características ($x_i$) con efectos pequeños o medianos usamos Ridge\n",
    "- Cuando tenemos pocas caractetísticas ($x_i$) con efectos medianos o largos usamos Lasso\n",
    "\n",
    "Para implementar la regresión Lasso debemos importar la clase Lasso.\n",
    "En algunos casos, aparecerá en pantalla una advertencia de convergencia. Para evitar eso debemos incorporar la variable max_iter con un valor grande, frecuentemente se usa por lo menos 20000 o más. Esto aumentará el tiempo de iteración.\n",
    "Usando el dataset de los crimenes podemos ver que solo algunos pesos han quedado con valores distintos de 0"
   ]
  },
  {
   "cell_type": "code",
   "execution_count": 52,
   "metadata": {},
   "outputs": [
    {
     "name": "stdout",
     "output_type": "stream",
     "text": [
      "Crime dataset\n",
      "lasso regression linear model intercept: 1186.6120619985793\n",
      "lasso regression linear model coeff:\n",
      "[    0.             0.            -0.          -168.18346054\n",
      "    -0.            -0.             0.           119.6938194\n",
      "     0.            -0.             0.          -169.67564456\n",
      "    -0.             0.            -0.             0.\n",
      "     0.             0.            -0.            -0.\n",
      "     0.            -0.             0.             0.\n",
      "   -57.52991966    -0.            -0.             0.\n",
      "   259.32889226    -0.             0.             0.\n",
      "     0.            -0.         -1188.7396867     -0.\n",
      "    -0.            -0.          -231.42347299     0.\n",
      "  1488.36512229     0.            -0.            -0.\n",
      "    -0.             0.             0.             0.\n",
      "     0.             0.            -0.             0.\n",
      "    20.14419415     0.             0.             0.\n",
      "     0.             0.           339.04468804     0.\n",
      "     0.           459.53799903    -0.             0.\n",
      "   122.69221826    -0.            91.41202242     0.\n",
      "    -0.             0.             0.            73.14365856\n",
      "     0.            -0.             0.             0.\n",
      "    86.35600042     0.             0.             0.\n",
      "  -104.57143405   264.93206555     0.            23.4488645\n",
      "   -49.39355188     0.             5.19775369     0.        ]\n",
      "Non-zero features: 20\n",
      "R-squared score (training): 0.631\n",
      "R-squared score (test): 0.624\n",
      "\n",
      "Features with non-zero weight (sorted by absolute magnitude):\n",
      "\tPctKidsBornNeverMar, 1488.365\n",
      "\tPctKids2Par, -1188.740\n",
      "\tHousVacant, 459.538\n",
      "\tPctPersDenseHous, 339.045\n",
      "\tNumInShelters, 264.932\n",
      "\tMalePctDivorce, 259.329\n",
      "\tPctWorkMom, -231.423\n",
      "\tpctWInvInc, -169.676\n",
      "\tagePct12t29, -168.183\n",
      "\tPctVacantBoarded, 122.692\n",
      "\tpctUrban, 119.694\n",
      "\tMedOwnCostPctIncNoMtg, -104.571\n",
      "\tMedYrHousBuilt, 91.412\n",
      "\tRentQrange, 86.356\n",
      "\tOwnOccHiQuart, 73.144\n",
      "\tPctEmplManu, -57.530\n",
      "\tPctBornSameState, -49.394\n",
      "\tPctForeignBorn, 23.449\n",
      "\tPctLargHouseFam, 20.144\n",
      "\tPctSameCity85, 5.198\n"
     ]
    }
   ],
   "source": [
    "from sklearn.linear_model import Lasso\n",
    "from sklearn.preprocessing import MinMaxScaler\n",
    "scaler = MinMaxScaler()\n",
    "\n",
    "X_train, X_test, y_train, y_test = train_test_split(X_crime, y_crime,\n",
    "                                                   random_state = 0)\n",
    "\n",
    "X_train_scaled = scaler.fit_transform(X_train)\n",
    "X_test_scaled = scaler.transform(X_test)\n",
    "\n",
    "linlasso = Lasso(alpha=2.0, max_iter = 10000).fit(X_train_scaled, y_train)\n",
    "\n",
    "print('Crime dataset')\n",
    "print('lasso regression linear model intercept: {}'\n",
    "     .format(linlasso.intercept_))\n",
    "print('lasso regression linear model coeff:\\n{}'\n",
    "     .format(linlasso.coef_))\n",
    "print('Non-zero features: {}'\n",
    "     .format(np.sum(linlasso.coef_ != 0)))\n",
    "print('R-squared score (training): {:.3f}'\n",
    "     .format(linlasso.score(X_train_scaled, y_train)))\n",
    "print('R-squared score (test): {:.3f}\\n'\n",
    "     .format(linlasso.score(X_test_scaled, y_test)))\n",
    "print('Features with non-zero weight (sorted by absolute magnitude):')\n",
    "\n",
    "for e in sorted (list(zip(list(X_crime), linlasso.coef_)),\n",
    "                key = lambda e: -abs(e[1])):\n",
    "    if e[1] != 0:\n",
    "        print('\\t{}, {:.3f}'.format(e[0], e[1]))"
   ]
  },
  {
   "cell_type": "markdown",
   "metadata": {},
   "source": [
    "Usando el modelo de regresión de Lasso nos ayuda a ver cuales son las variables que más influencia tienen entre los datos de entrada y salida. "
   ]
  },
  {
   "cell_type": "markdown",
   "metadata": {},
   "source": [
    "#### ¿Que ocurre si variamos  𝛼  en el modelo Lasso?\n",
    "Usando un valor de $\\alpha=3$ obtenemos el mejor indicador $R^2$ en el test dataset."
   ]
  },
  {
   "cell_type": "code",
   "execution_count": 54,
   "metadata": {},
   "outputs": [
    {
     "name": "stdout",
     "output_type": "stream",
     "text": [
      "Lasso regression: effect of alpha regularization\n",
      "parameter on number of features kept in final model\n",
      "\n",
      "Alpha = 0.50\n",
      "Features kept: 35, r-squared training: 0.65, r-squared test: 0.58\n",
      "\n",
      "Alpha = 1.00\n",
      "Features kept: 25, r-squared training: 0.64, r-squared test: 0.60\n",
      "\n",
      "Alpha = 2.00\n",
      "Features kept: 20, r-squared training: 0.63, r-squared test: 0.62\n",
      "\n",
      "Alpha = 3.00\n",
      "Features kept: 17, r-squared training: 0.62, r-squared test: 0.63\n",
      "\n",
      "Alpha = 5.00\n",
      "Features kept: 12, r-squared training: 0.60, r-squared test: 0.61\n",
      "\n",
      "Alpha = 10.00\n",
      "Features kept: 6, r-squared training: 0.57, r-squared test: 0.58\n",
      "\n",
      "Alpha = 20.00\n",
      "Features kept: 2, r-squared training: 0.51, r-squared test: 0.50\n",
      "\n",
      "Alpha = 50.00\n",
      "Features kept: 1, r-squared training: 0.31, r-squared test: 0.30\n",
      "\n"
     ]
    }
   ],
   "source": [
    "print('Lasso regression: effect of alpha regularization\\n\\\n",
    "parameter on number of features kept in final model\\n')\n",
    "\n",
    "for alpha in [0.5, 1, 2, 3, 5, 10, 20, 50]:\n",
    "    linlasso = Lasso(alpha, max_iter = 10000).fit(X_train_scaled, y_train)\n",
    "    r2_train = linlasso.score(X_train_scaled, y_train)\n",
    "    r2_test = linlasso.score(X_test_scaled, y_test)\n",
    "    \n",
    "    print('Alpha = {:.2f}\\nFeatures kept: {}, r-squared training: {:.2f}, \\\n",
    "r-squared test: {:.2f}\\n'\n",
    "         .format(alpha, np.sum(linlasso.coef_ != 0), r2_train, r2_test))"
   ]
  },
  {
   "cell_type": "markdown",
   "metadata": {},
   "source": [
    "### Polinomial Regression\n",
    "Supongamos por un momento que tenemos un conjunto de datos 2 dimensionales ($x_0, x_1$). Podríamos agregas mas información que involucre la multiplicación de todas las combinaciones de caracteristicas entre si terminando con un dataset de 5 dimensiones: ($x_0$, $x_1$, $x_0^2$, $x_0x_1$, $x_1^2$).\n",
    "\n",
    "$ x = (x_0,x_1) \\quad \\rightarrow \\quad x'=(x_0,x_1,x_0^2,x_0x_1,x_1^2)$\n",
    "\n",
    "Ahora podríamos considerar el problema de predecir la misma regresión lineal pero esta vez usando 5 características en vez de las 2 originales. El punto importante aquí es que este aun es un problema de regresión lineal por lo que usamos la misma técnica usada antes\n",
    "\n",
    "$\\hat{y} = \\hat{w}_0x_0 + \\hat{w}_1x_1 + \\hat{w}_{00}x_0^2 + \\hat{w}_{01}x_0x_1 + \\hat{w}_{11}x_1^2 = \\sum_i\\hat{w}_ix_i + \\sum_{i,j} \\hat{w}_{i,j}x_ix_j$\n",
    "\n",
    "Este tipo problema se llama regresión polinomial, donde el número inicial de dimensiones del dataset da el orden del polinomio con el cual vamos a trabajar. En este caso es un polinomio de orden 2."
   ]
  },
  {
   "cell_type": "markdown",
   "metadata": {},
   "source": [
    "#### Caracteristicas de una regresion lineal polinomial\n",
    "- Nos permite capturar interacciones entre las caracteristicas originales agragandolas como nuevas interacciones al modelo lineal\n",
    "- Para hacer un problema de clasificacion más fácil.\n",
    "- Podemos aplicar transformaciones no lienales para crear nuevas caracteristicas a analizar.\n",
    "\n",
    "Un efecto adverso de aplicar este tipo de regresiones es que genera modelos más complejos que pueden ser sobreajustados}, por lo tanto para aminorar este efecto es que generalmente van a compañados con una ragularización al igual que los modelos de regresión Ridge."
   ]
  },
  {
   "cell_type": "code",
   "execution_count": 63,
   "metadata": {},
   "outputs": [
    {
     "name": "stdout",
     "output_type": "stream",
     "text": [
      "[ 7.73562365  9.63063021  8.54132022 21.21811721 10.91627127  6.09081028\n",
      " 18.41621638  9.65292317 18.25188238 12.14032442 12.07187785  6.68579564\n",
      " 22.08810712 14.88671165 12.57816757 15.10918004  8.22218446 20.24695243\n",
      " 11.55748746 17.41823211 15.87877067 22.78057004  9.18985112 18.50675171\n",
      " 22.39511633 16.33444873  4.33057892 17.2134918  11.30742883 11.61715968\n",
      "  8.59450992  9.27443963 12.36412887 25.28585219 19.0688687  24.20228984\n",
      " 19.35369672 13.05039828 11.72234556 16.73585851 17.76490158 12.87001621\n",
      " 15.22742039  7.13070042 20.21185351 14.26511075 12.94711274 11.42031629\n",
      "  9.55877354 19.44357164 10.23527752 21.63246599 19.1405913  12.61974534\n",
      "  9.46153769 13.274062   10.19963427 20.46488539  9.63399887 23.88924514\n",
      " 20.4618788   3.03696073  8.38020792 21.36781617 14.86941989 15.93572235\n",
      " 16.59336007 19.62413769 19.71092748  9.89245745 13.59296032 18.25888161\n",
      " 15.7675116   7.86400356  3.59181766]\n",
      "linear model coeff (w): [ 4.42036739  5.99661447  0.52894712 10.23751345  6.5507973  -2.02082636\n",
      " -0.32378811]\n",
      "linear model intercept (b): 1.543\n",
      "R-squared score (training): 0.722\n",
      "R-squared score (test): 0.722\n",
      "\n",
      "Now we transform the original input data to add\n",
      "polynomial features up to degree 2 (quadratic)\n",
      "\n",
      "(poly deg 2) linear model coeff (w):\n",
      "[ 3.40951018e-12  1.66452443e+01  2.67285381e+01 -2.21348316e+01\n",
      "  1.24359227e+01  6.93086826e+00  1.04772675e+00  3.71352773e+00\n",
      " -1.33785505e+01 -5.73177185e+00  1.61813184e+00  3.66399592e+00\n",
      "  5.04513181e+00 -1.45835979e+00  1.95156872e+00 -1.51297378e+01\n",
      "  4.86762224e+00 -2.97084269e+00 -7.78370522e+00  5.14696078e+00\n",
      " -4.65479361e+00  1.84147395e+01 -2.22040650e+00  2.16572630e+00\n",
      " -1.27989481e+00  1.87946559e+00  1.52962716e-01  5.62073813e-01\n",
      " -8.91697516e-01 -2.18481128e+00  1.37595426e+00 -4.90336041e+00\n",
      " -2.23535458e+00  1.38268439e+00 -5.51908208e-01 -1.08795007e+00]\n",
      "(poly deg 2) linear model intercept (b): -3.206\n",
      "(poly deg 2) R-squared score (training): 0.969\n",
      "(poly deg 2) R-squared score (test): 0.805\n",
      "\n",
      "\n",
      "Addition of many polynomial features often leads to\n",
      "overfitting, so we often use polynomial features in combination\n",
      "with regression that has a regularization penalty, like ridge\n",
      "regression.\n",
      "\n",
      "(poly deg 2 + ridge) linear model coeff (w):\n",
      "[ 0.          2.229281    4.73349734 -3.15432089  3.8585194   1.60970912\n",
      " -0.76967054 -0.14956002 -1.75215371  1.5970487   1.37080607  2.51598244\n",
      "  2.71746523  0.48531538 -1.9356048  -1.62914955  1.51474518  0.88674141\n",
      "  0.26141199  2.04931775 -1.93025705  3.61850966 -0.71788143  0.63173956\n",
      " -3.16429847  1.29161448  3.545085    1.73422041  0.94347654 -0.51207219\n",
      "  1.70114448 -1.97949067  1.80687548 -0.2173863   2.87585898 -0.89423157]\n",
      "(poly deg 2 + ridge) linear model intercept (b): 5.418\n",
      "(poly deg 2 + ridge) R-squared score (training): 0.826\n",
      "(poly deg 2 + ridge) R-squared score (test): 0.825\n"
     ]
    }
   ],
   "source": [
    "from sklearn.linear_model import LinearRegression\n",
    "from sklearn.linear_model import Ridge\n",
    "from sklearn.preprocessing import PolynomialFeatures\n",
    "from sklearn.datasets import make_friedman1\n",
    "\n",
    "X_F1, y_F1 = make_friedman1(n_samples = 100, n_features = 7, random_state=0)\n",
    "\n",
    "X_train, X_test, y_train, y_test = train_test_split(X_F1, y_F1,\n",
    "                                                   random_state = 0)\n",
    "\n",
    "linreg = LinearRegression().fit(X_train, y_train)\n",
    "\n",
    "print('linear model coeff (w): {}'\n",
    "     .format(linreg.coef_))\n",
    "print('linear model intercept (b): {:.3f}'\n",
    "     .format(linreg.intercept_))\n",
    "print('R-squared score (training): {:.3f}'\n",
    "     .format(linreg.score(X_train, y_train)))\n",
    "print('R-squared score (test): {:.3f}'\n",
    "     .format(linreg.score(X_test, y_test)))\n",
    "\n",
    "print('\\nNow we transform the original input data to add\\n\\\n",
    "polynomial features up to degree 2 (quadratic)\\n')\n",
    "poly = PolynomialFeatures(degree=2)\n",
    "X_F1_poly = poly.fit_transform(X_F1)\n",
    "\n",
    "X_train, X_test, y_train, y_test = train_test_split(X_F1_poly, y_F1,\n",
    "                                                   random_state = 0)\n",
    "linreg = LinearRegression().fit(X_train, y_train)\n",
    "\n",
    "print('(poly deg 2) linear model coeff (w):\\n{}'\n",
    "     .format(linreg.coef_))\n",
    "print('(poly deg 2) linear model intercept (b): {:.3f}'\n",
    "     .format(linreg.intercept_))\n",
    "print('(poly deg 2) R-squared score (training): {:.3f}'\n",
    "     .format(linreg.score(X_train, y_train)))\n",
    "print('(poly deg 2) R-squared score (test): {:.3f}\\n'\n",
    "     .format(linreg.score(X_test, y_test)))\n",
    "\n",
    "print('\\nAddition of many polynomial features often leads to\\n\\\n",
    "overfitting, so we often use polynomial features in combination\\n\\\n",
    "with regression that has a regularization penalty, like ridge\\n\\\n",
    "regression.\\n')\n",
    "\n",
    "X_train, X_test, y_train, y_test = train_test_split(X_F1_poly, y_F1,\n",
    "                                                   random_state = 0)\n",
    "linreg = Ridge().fit(X_train, y_train)\n",
    "\n",
    "print('(poly deg 2 + ridge) linear model coeff (w):\\n{}'\n",
    "     .format(linreg.coef_))\n",
    "print('(poly deg 2 + ridge) linear model intercept (b): {:.3f}'\n",
    "     .format(linreg.intercept_))\n",
    "print('(poly deg 2 + ridge) R-squared score (training): {:.3f}'\n",
    "     .format(linreg.score(X_train, y_train)))\n",
    "print('(poly deg 2 + ridge) R-squared score (test): {:.3f}'\n",
    "     .format(linreg.score(X_test, y_test)))"
   ]
  },
  {
   "cell_type": "code",
   "execution_count": null,
   "metadata": {},
   "outputs": [],
   "source": []
  }
 ],
 "metadata": {
  "kernelspec": {
   "display_name": "Python 3",
   "language": "python",
   "name": "python3"
  },
  "language_info": {
   "codemirror_mode": {
    "name": "ipython",
    "version": 3
   },
   "file_extension": ".py",
   "mimetype": "text/x-python",
   "name": "python",
   "nbconvert_exporter": "python",
   "pygments_lexer": "ipython3",
   "version": "3.5.2"
  }
 },
 "nbformat": 4,
 "nbformat_minor": 4
}
